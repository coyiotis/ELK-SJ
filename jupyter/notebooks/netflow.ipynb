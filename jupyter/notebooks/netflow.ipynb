{
 "cells": [
  {
   "cell_type": "code",
   "execution_count": 1,
   "metadata": {},
   "outputs": [],
   "source": [
    "from pyspark.sql import SparkSession\n",
    "from pyspark.sql import functions as F\n",
    "import pandas as pd\n",
    "import os\n",
    "\n",
    "spark = SparkSession.builder \\\n",
    "    .appName(\"NetFlowReader\") \\\n",
    "    .enableHiveSupport() \\\n",
    "    .getOrCreate()\n",
    "\n",
    "es_reader = (spark.read\n",
    "    .format(\"org.elasticsearch.spark.sql\")\n",
    "    .option(\"inferSchema\", \"true\")\n",
    "    .option(\"es.nodes\",\"elksj-elasticsearch:9200\")\n",
    ")"
   ]
  },
  {
   "cell_type": "code",
   "execution_count": 5,
   "metadata": {},
   "outputs": [],
   "source": [
    "df = es_reader.load(\"netflow-*/\")"
   ]
  },
  {
   "cell_type": "code",
   "execution_count": 6,
   "metadata": {},
   "outputs": [
    {
     "data": {
      "text/plain": [
       "StructType(List(StructField(34,LongType,true),StructField(42,LongType,true),StructField(@timestamp,TimestampType,true),StructField(@version,StringType,true),StructField(BGP_IPV4_NEXT_HOP,StringType,true),StructField(DST_AS,LongType,true),StructField(EXPORTER_IPV4_ADDRESS,StringType,true),StructField(FIRST_SWITCHED,LongType,true),StructField(FLOW_END_MILLISECONDS,LongType,true),StructField(FLOW_START_MILLISECONDS,LongType,true),StructField(ICMP_TYPE,LongType,true),StructField(INPUT_SNMP,LongType,true),StructField(IN_BYTES,LongType,true),StructField(IN_PKTS,LongType,true),StructField(IPV4_DST_ADDR,StringType,true),StructField(IPV4_NEXT_HOP,StringType,true),StructField(IPV4_SRC_ADDR,StringType,true),StructField(IP_PROTOCOL_VERSION,LongType,true),StructField(L4_DST_PORT,LongType,true),StructField(L4_SRC_PORT,LongType,true),StructField(LAST_SWITCHED,LongType,true),StructField(OUTPUT_SNMP,LongType,true),StructField(OUT_BYTES,LongType,true),StructField(OUT_PKTS,LongType,true),StructField(PROTOCOL,LongType,true),StructField(SRC_AS,LongType,true),StructField(SRC_TOS,LongType,true),StructField(TCP_FLAGS,LongType,true),StructField(log_type,StringType,true)))"
      ]
     },
     "execution_count": 6,
     "metadata": {},
     "output_type": "execute_result"
    }
   ],
   "source": [
    "df.schema"
   ]
  },
  {
   "cell_type": "code",
   "execution_count": 10,
   "metadata": {},
   "outputs": [
    {
     "data": {
      "text/plain": [
       "['34',\n",
       " '42',\n",
       " '@timestamp',\n",
       " '@version',\n",
       " 'BGP_IPV4_NEXT_HOP',\n",
       " 'DST_AS',\n",
       " 'EXPORTER_IPV4_ADDRESS',\n",
       " 'FIRST_SWITCHED',\n",
       " 'FLOW_END_MILLISECONDS',\n",
       " 'FLOW_START_MILLISECONDS',\n",
       " 'ICMP_TYPE',\n",
       " 'INPUT_SNMP',\n",
       " 'IN_BYTES',\n",
       " 'IN_PKTS',\n",
       " 'IPV4_DST_ADDR',\n",
       " 'IPV4_NEXT_HOP',\n",
       " 'IPV4_SRC_ADDR',\n",
       " 'IP_PROTOCOL_VERSION',\n",
       " 'L4_DST_PORT',\n",
       " 'L4_SRC_PORT',\n",
       " 'LAST_SWITCHED',\n",
       " 'OUTPUT_SNMP',\n",
       " 'OUT_BYTES',\n",
       " 'OUT_PKTS',\n",
       " 'PROTOCOL',\n",
       " 'SRC_AS',\n",
       " 'SRC_TOS',\n",
       " 'TCP_FLAGS',\n",
       " 'log_type']"
      ]
     },
     "execution_count": 10,
     "metadata": {},
     "output_type": "execute_result"
    }
   ],
   "source": [
    "df.columns"
   ]
  },
  {
   "cell_type": "code",
   "execution_count": 11,
   "metadata": {},
   "outputs": [
    {
     "data": {
      "text/plain": [
       "25001"
      ]
     },
     "execution_count": 11,
     "metadata": {},
     "output_type": "execute_result"
    }
   ],
   "source": [
    "df.count()"
   ]
  },
  {
   "cell_type": "code",
   "execution_count": null,
   "metadata": {},
   "outputs": [],
   "source": []
  }
 ],
 "metadata": {
  "kernelspec": {
   "display_name": "Python 3",
   "language": "python",
   "name": "python3"
  },
  "language_info": {
   "codemirror_mode": {
    "name": "ipython",
    "version": 3
   },
   "file_extension": ".py",
   "mimetype": "text/x-python",
   "name": "python",
   "nbconvert_exporter": "python",
   "pygments_lexer": "ipython3",
   "version": "3.7.6"
  }
 },
 "nbformat": 4,
 "nbformat_minor": 4
}
